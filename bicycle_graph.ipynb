{
 "cells": [
  {
   "cell_type": "code",
   "execution_count": 77,
   "id": "3cd150ab",
   "metadata": {},
   "outputs": [],
   "source": [
    "#导入需要使用的模块\n",
    "import pandas as pd\n",
    "import matplotlib.pyplot as plt\n",
    "from datetime import datetime\n",
    "from dateutil.parser import parse\n",
    "import os"
   ]
  },
  {
   "cell_type": "code",
   "execution_count": 80,
   "id": "d4da2002",
   "metadata": {},
   "outputs": [],
   "source": [
    "#导入文件的路径是自己存放文件的位置\n",
    "path_input = \"./data/everyday_data/\" #输入文件夹目录\n",
    "path_output = \"./data/everyday_bicycle_graph/\" #输出文件夹目录\n",
    "files= os.listdir(path_input)\n",
    "folder = os.path.exists(path_output)\n",
    "if not folder:                   #判断是否存在文件夹如果不存在则创建为文件夹\n",
    "    os.makedirs(path_output)            #makedirs 创建文件时如果路径不存在会创建这个路径"
   ]
  },
  {
   "cell_type": "code",
   "execution_count": 81,
   "id": "3dc15be7",
   "metadata": {},
   "outputs": [
    {
     "name": "stderr",
     "output_type": "stream",
     "text": [
      "D:\\Anaconda\\lib\\site-packages\\pandas\\core\\indexing.py:1637: SettingWithCopyWarning: \n",
      "A value is trying to be set on a copy of a slice from a DataFrame\n",
      "\n",
      "See the caveats in the documentation: https://pandas.pydata.org/pandas-docs/stable/user_guide/indexing.html#returning-a-view-versus-a-copy\n",
      "  self._setitem_single_block(indexer, value, name)\n"
     ]
    }
   ],
   "source": [
    "for file in files: #遍历文件夹\n",
    "    path = path_input+file\n",
    "    data = pd.read_csv(path,encoding= 'gbk')\n",
    "    data['开始时间'] = [parse(x) for x in data['start_time']]\n",
    "    data['开始小时'] = [x.strftime('%H') for x in data['开始时间']] #提取成交时间的小时数\n",
    "    traffic = data[['开始小时','orderid']].drop_duplicates() #对小时和订单去重\n",
    "    data['开始小时']=data['开始小时'].astype('int')\n",
    "    data['结束时间'] = [parse(x) for x in data['end_time']]\n",
    "    data['结束小时'] = [x.strftime('%H') for x in data['结束时间']] #提取成交时间的小时数\n",
    "    data['结束小时']=data['结束小时'].astype('int')\n",
    "    for i in range(len(data['结束小时'])):\n",
    "            if data['开始小时'].iloc[i]==data['结束小时'].iloc[i]:\n",
    "                   data['结束小时'].iloc[i] = data['开始小时'].iloc[i]+1\n",
    "    list = ['orderid']+[str(x) for x in range(24)]\n",
    "    new_data = pd.DataFrame(columns = list)\n",
    "    new_data['orderid']=data['orderid']\n",
    "    for i in range(len(data['开始小时'])):\n",
    "        for j in range(24):\n",
    "            if data.iloc[i]['结束小时'] > j:\n",
    "                new_data.at[i,str(j)] = str(data.at[i,'start_location_x'])+','+ str(data.at[i,'start_location_y'])\n",
    "            else:\n",
    "                new_data.at[i,str(j)] = str(data.at[i,'end_location_x'])+','+ str(data.at[i,'end_location_y'])  \n",
    "    new_data.to_csv(path_output+file,index=None)"
   ]
  }
 ],
 "metadata": {
  "kernelspec": {
   "display_name": "Python 3",
   "language": "python",
   "name": "python3"
  },
  "language_info": {
   "codemirror_mode": {
    "name": "ipython",
    "version": 3
   },
   "file_extension": ".py",
   "mimetype": "text/x-python",
   "name": "python",
   "nbconvert_exporter": "python",
   "pygments_lexer": "ipython3",
   "version": "3.8.8"
  }
 },
 "nbformat": 4,
 "nbformat_minor": 5
}
