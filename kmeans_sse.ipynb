{
 "cells": [
  {
   "cell_type": "code",
   "execution_count": 41,
   "id": "efdb3076",
   "metadata": {},
   "outputs": [],
   "source": [
    "import numpy as np\n",
    "import pandas as pd\n",
    "from math import cos, sin, acos\n",
    "import matplotlib.pyplot as plt"
   ]
  },
  {
   "cell_type": "code",
   "execution_count": 53,
   "id": "c9be4f9e",
   "metadata": {},
   "outputs": [
    {
     "data": {
      "text/html": [
       "<div>\n",
       "<style scoped>\n",
       "    .dataframe tbody tr th:only-of-type {\n",
       "        vertical-align: middle;\n",
       "    }\n",
       "\n",
       "    .dataframe tbody tr th {\n",
       "        vertical-align: top;\n",
       "    }\n",
       "\n",
       "    .dataframe thead th {\n",
       "        text-align: right;\n",
       "    }\n",
       "</style>\n",
       "<table border=\"1\" class=\"dataframe\">\n",
       "  <thead>\n",
       "    <tr style=\"text-align: right;\">\n",
       "      <th></th>\n",
       "      <th>y</th>\n",
       "      <th>x</th>\n",
       "    </tr>\n",
       "  </thead>\n",
       "  <tbody>\n",
       "    <tr>\n",
       "      <th>0</th>\n",
       "      <td>31.389</td>\n",
       "      <td>121.348</td>\n",
       "    </tr>\n",
       "    <tr>\n",
       "      <th>1</th>\n",
       "      <td>31.279</td>\n",
       "      <td>121.508</td>\n",
       "    </tr>\n",
       "    <tr>\n",
       "      <th>2</th>\n",
       "      <td>31.254</td>\n",
       "      <td>121.383</td>\n",
       "    </tr>\n",
       "    <tr>\n",
       "      <th>3</th>\n",
       "      <td>31.320</td>\n",
       "      <td>121.484</td>\n",
       "    </tr>\n",
       "    <tr>\n",
       "      <th>4</th>\n",
       "      <td>31.292</td>\n",
       "      <td>121.407</td>\n",
       "    </tr>\n",
       "    <tr>\n",
       "      <th>...</th>\n",
       "      <td>...</td>\n",
       "      <td>...</td>\n",
       "    </tr>\n",
       "    <tr>\n",
       "      <th>79057</th>\n",
       "      <td>31.119</td>\n",
       "      <td>121.372</td>\n",
       "    </tr>\n",
       "    <tr>\n",
       "      <th>79058</th>\n",
       "      <td>31.201</td>\n",
       "      <td>121.422</td>\n",
       "    </tr>\n",
       "    <tr>\n",
       "      <th>79059</th>\n",
       "      <td>31.193</td>\n",
       "      <td>121.473</td>\n",
       "    </tr>\n",
       "    <tr>\n",
       "      <th>79060</th>\n",
       "      <td>31.307</td>\n",
       "      <td>121.391</td>\n",
       "    </tr>\n",
       "    <tr>\n",
       "      <th>79061</th>\n",
       "      <td>31.269</td>\n",
       "      <td>121.515</td>\n",
       "    </tr>\n",
       "  </tbody>\n",
       "</table>\n",
       "<p>79062 rows × 2 columns</p>\n",
       "</div>"
      ],
      "text/plain": [
       "            y        x\n",
       "0      31.389  121.348\n",
       "1      31.279  121.508\n",
       "2      31.254  121.383\n",
       "3      31.320  121.484\n",
       "4      31.292  121.407\n",
       "...       ...      ...\n",
       "79057  31.119  121.372\n",
       "79058  31.201  121.422\n",
       "79059  31.193  121.473\n",
       "79060  31.307  121.391\n",
       "79061  31.269  121.515\n",
       "\n",
       "[79062 rows x 2 columns]"
      ]
     },
     "execution_count": 53,
     "metadata": {},
     "output_type": "execute_result"
    }
   ],
   "source": [
    "path = './data/everyday_bikeloc/day1.csv'\n",
    "data = pd.read_csv(path)\n",
    "location = data['0']\n",
    "x = location.map(lambda x:float(x.split(',')[0]))\n",
    "y = location.map(lambda x:float(x.split(',')[1]))\n",
    "new_data = pd.concat([y,x],axis=1)\n",
    "new_data.columns=['y','x']\n",
    "new_data"
   ]
  },
  {
   "cell_type": "code",
   "execution_count": 51,
   "id": "e909b728",
   "metadata": {},
   "outputs": [],
   "source": [
    "# 加载数据\n",
    "def loaddATEsET(filename,index):\n",
    "    data = pd.read_csv(filename)\n",
    "    x = location.map(lambda x:float(x.split(',')[0]))\n",
    "    y = location.map(lambda x:float(x.split(',')[1]))\n",
    "    dataArr = pd.concat([y,x],axis=1)\n",
    "    dataArr.columns=['y','x']\n",
    "    dataArr = dataArr.values\n",
    "    return np.mat(dataArr)"
   ]
  },
  {
   "cell_type": "code",
   "execution_count": 44,
   "id": "63438721",
   "metadata": {},
   "outputs": [],
   "source": [
    "# 计算根据经纬度计算两点之间的球面距离\n",
    "def distSLC(vacA, vacB):\n",
    "    a = sin(vacA[0, 1]*np.pi/180) * sin(vacB[0, 1]*np.pi/180)\n",
    "    b = cos(vacA[0, 1]*np.pi/180) * cos(vacB[0, 1]*np.pi/180)*cos(np.pi*(vacB[0, 0]-vacA[0, 0])/180)\n",
    "    return acos(a+b)*6371.0"
   ]
  },
  {
   "cell_type": "code",
   "execution_count": 45,
   "id": "25dd28a9",
   "metadata": {},
   "outputs": [],
   "source": [
    "# 随机初始化K个质心(质心满足数据边界之内)\n",
    "def randCent(dataSet, k):\n",
    "    n = np.shape(dataSet)[1]\n",
    "    centroids = np.mat(np.zeros((k, n)))\n",
    "    for j in range(n):\n",
    "        minJ = np.min(dataSet[:, j])\n",
    "        rangeJ = float(max(dataSet[:, j])-minJ)\n",
    "        centroids[:, j] = minJ+rangeJ*np.random.rand(k, 1)\n",
    "    return centroids"
   ]
  },
  {
   "cell_type": "code",
   "execution_count": 46,
   "id": "a88ebd65",
   "metadata": {},
   "outputs": [],
   "source": [
    "# Kmeans聚类算法\n",
    "def kMeans(dataSet, k, distMeas=distSLC, createCent=randCent):\n",
    "    m = np.shape(dataSet)[0]\n",
    "    clusterAssment = np.mat(np.zeros((m, 2)))\n",
    "    centroids = createCent(dataSet, k)\n",
    "    clusterChanged = True\n",
    "    while clusterChanged:\n",
    "        clusterChanged = False\n",
    "        for i in range(m):\n",
    "            minDist = np.inf\n",
    "            minIndex = -1\n",
    "            for j in range(k):\n",
    "                distJI = distMeas(centroids[j, :], dataSet[i, :])\n",
    "                if distJI < minDist:\n",
    "                    minDist = distJI\n",
    "                    minIndex = j\n",
    "            if clusterAssment[i, 0] != minIndex:\n",
    "                clusterChanged = True\n",
    "            clusterAssment[i, :] = minIndex, minDist**2\n",
    "        # print(centroids)\n",
    "        for cent in range(k):\n",
    "            ptsInClust = dataSet[np.nonzero(clusterAssment[:, 0].A == cent)[0]]\n",
    "            if len(ptsInClust) != 0:\n",
    "                centroids[cent, :] = np.mean(ptsInClust, axis=0)\n",
    "    return centroids, clusterAssment"
   ]
  },
  {
   "cell_type": "code",
   "execution_count": 47,
   "id": "70e5ee4f",
   "metadata": {},
   "outputs": [],
   "source": [
    "# 计算Kmeans聚类算法的SSE值\n",
    "def calcSSE(clusterAssment):\n",
    "    return sum(clusterAssment[:, -1])"
   ]
  },
  {
   "cell_type": "code",
   "execution_count": 48,
   "id": "a33500bd",
   "metadata": {},
   "outputs": [],
   "source": [
    "def plotKMeans(dataSet, clusterAssment, centroids, k):\n",
    "    fig = plt.figure()\n",
    "    rect = [0.1, 0.1, 0.8, 0.8]\n",
    "    scatterMarkers = ['s', 'o', '^', '8', 'p', 'd', 'v', 'h', '>', '<']\n",
    "    axprops = dict(xticks=[], yticks=[])\n",
    "    ax0 = fig.add_axes(rect, label='ax0', **axprops)\n",
    "#     imgP = plt.imread('1.png')\n",
    "#     ax0.imshow(imgP)\n",
    "    ax1 = fig.add_axes(rect, label='ax1', frameon=False)\n",
    "    for i in range(k):\n",
    "        ptsInCurrCluster = dataSet[np.nonzero(clusterAssment[:, 0].A == i)[0], :]\n",
    "        markerStyle = scatterMarkers[i % len(scatterMarkers)]\n",
    "        ax1.scatter(ptsInCurrCluster[:, 0].flatten().A[0],\n",
    "                    ptsInCurrCluster[:, 1].flatten().A[0],\n",
    "                    marker=markerStyle, s=90)\n",
    "    ax1.scatter(centroids[:, 0].flatten().A[0], centroids[:, 1].flatten().A[0],\n",
    "                marker='+', s=300)\n",
    "    plt.show()\n",
    "    # plt.savefig('fig.png', bbox_inches='tight')"
   ]
  },
  {
   "cell_type": "code",
   "execution_count": 54,
   "id": "aa43dd58",
   "metadata": {},
   "outputs": [
    {
     "name": "stdout",
     "output_type": "stream",
     "text": [
      "当k值为：2时，对应的SSE值为：2106897.108432\n",
      "当k值为：3时，对应的SSE值为：1469045.424411\n",
      "当k值为：4时，对应的SSE值为：1161234.508861\n"
     ]
    },
    {
     "ename": "KeyboardInterrupt",
     "evalue": "",
     "output_type": "error",
     "traceback": [
      "\u001b[1;31m---------------------------------------------------------------------------\u001b[0m",
      "\u001b[1;31mKeyboardInterrupt\u001b[0m                         Traceback (most recent call last)",
      "\u001b[1;32m<ipython-input-54-d05e0c052f21>\u001b[0m in \u001b[0;36m<module>\u001b[1;34m\u001b[0m\n\u001b[0;32m      1\u001b[0m \u001b[0mdataSet\u001b[0m \u001b[1;33m=\u001b[0m \u001b[0mloaddATEsET\u001b[0m\u001b[1;33m(\u001b[0m\u001b[0mpath\u001b[0m\u001b[1;33m,\u001b[0m\u001b[1;36m0\u001b[0m\u001b[1;33m)\u001b[0m\u001b[1;33m\u001b[0m\u001b[1;33m\u001b[0m\u001b[0m\n\u001b[0;32m      2\u001b[0m \u001b[1;32mfor\u001b[0m \u001b[0mi\u001b[0m \u001b[1;32min\u001b[0m \u001b[0mrange\u001b[0m\u001b[1;33m(\u001b[0m\u001b[1;36m40\u001b[0m\u001b[1;33m)\u001b[0m\u001b[1;33m:\u001b[0m\u001b[1;33m\u001b[0m\u001b[1;33m\u001b[0m\u001b[0m\n\u001b[1;32m----> 3\u001b[1;33m     \u001b[0mcentroids\u001b[0m\u001b[1;33m,\u001b[0m \u001b[0mclusterAssment\u001b[0m \u001b[1;33m=\u001b[0m \u001b[0mkMeans\u001b[0m\u001b[1;33m(\u001b[0m\u001b[0mdataSet\u001b[0m\u001b[1;33m,\u001b[0m \u001b[0mi\u001b[0m\u001b[1;33m+\u001b[0m\u001b[1;36m2\u001b[0m\u001b[1;33m)\u001b[0m\u001b[1;33m\u001b[0m\u001b[1;33m\u001b[0m\u001b[0m\n\u001b[0m\u001b[0;32m      4\u001b[0m     \u001b[0msseValue\u001b[0m \u001b[1;33m=\u001b[0m \u001b[0mcalcSSE\u001b[0m\u001b[1;33m(\u001b[0m\u001b[0mclusterAssment\u001b[0m\u001b[1;33m)\u001b[0m\u001b[1;33m\u001b[0m\u001b[1;33m\u001b[0m\u001b[0m\n\u001b[0;32m      5\u001b[0m     \u001b[0mprint\u001b[0m\u001b[1;33m(\u001b[0m\u001b[1;34m\"当k值为：%d时，对应的SSE值为：%f\"\u001b[0m \u001b[1;33m%\u001b[0m \u001b[1;33m(\u001b[0m\u001b[0mi\u001b[0m\u001b[1;33m+\u001b[0m\u001b[1;36m2\u001b[0m\u001b[1;33m,\u001b[0m \u001b[0msseValue\u001b[0m\u001b[1;33m)\u001b[0m\u001b[1;33m)\u001b[0m\u001b[1;33m\u001b[0m\u001b[1;33m\u001b[0m\u001b[0m\n",
      "\u001b[1;32m<ipython-input-46-c1572f5055f9>\u001b[0m in \u001b[0;36mkMeans\u001b[1;34m(dataSet, k, distMeas, createCent)\u001b[0m\n\u001b[0;32m     17\u001b[0m             \u001b[1;32mif\u001b[0m \u001b[0mclusterAssment\u001b[0m\u001b[1;33m[\u001b[0m\u001b[0mi\u001b[0m\u001b[1;33m,\u001b[0m \u001b[1;36m0\u001b[0m\u001b[1;33m]\u001b[0m \u001b[1;33m!=\u001b[0m \u001b[0mminIndex\u001b[0m\u001b[1;33m:\u001b[0m\u001b[1;33m\u001b[0m\u001b[1;33m\u001b[0m\u001b[0m\n\u001b[0;32m     18\u001b[0m                 \u001b[0mclusterChanged\u001b[0m \u001b[1;33m=\u001b[0m \u001b[1;32mTrue\u001b[0m\u001b[1;33m\u001b[0m\u001b[1;33m\u001b[0m\u001b[0m\n\u001b[1;32m---> 19\u001b[1;33m             \u001b[0mclusterAssment\u001b[0m\u001b[1;33m[\u001b[0m\u001b[0mi\u001b[0m\u001b[1;33m,\u001b[0m \u001b[1;33m:\u001b[0m\u001b[1;33m]\u001b[0m \u001b[1;33m=\u001b[0m \u001b[0mminIndex\u001b[0m\u001b[1;33m,\u001b[0m \u001b[0mminDist\u001b[0m\u001b[1;33m**\u001b[0m\u001b[1;36m2\u001b[0m\u001b[1;33m\u001b[0m\u001b[1;33m\u001b[0m\u001b[0m\n\u001b[0m\u001b[0;32m     20\u001b[0m         \u001b[1;31m# print(centroids)\u001b[0m\u001b[1;33m\u001b[0m\u001b[1;33m\u001b[0m\u001b[1;33m\u001b[0m\u001b[0m\n\u001b[0;32m     21\u001b[0m         \u001b[1;32mfor\u001b[0m \u001b[0mcent\u001b[0m \u001b[1;32min\u001b[0m \u001b[0mrange\u001b[0m\u001b[1;33m(\u001b[0m\u001b[0mk\u001b[0m\u001b[1;33m)\u001b[0m\u001b[1;33m:\u001b[0m\u001b[1;33m\u001b[0m\u001b[1;33m\u001b[0m\u001b[0m\n",
      "\u001b[1;31mKeyboardInterrupt\u001b[0m: "
     ]
    }
   ],
   "source": [
    "dataSet = loaddATEsET(path,0)\n",
    "for i in range(40):\n",
    "    centroids, clusterAssment = kMeans(dataSet, i+2)\n",
    "    sseValue = calcSSE(clusterAssment)\n",
    "    print(\"当k值为：%d时，对应的SSE值为：%f\" % (i+2, sseValue))\n",
    "centroids, clusterAssment = kMeans(dataSet, 6)\n",
    "plotKMeans(dataSet, clusterAssment, centroids, 6)"
   ]
  }
 ],
 "metadata": {
  "kernelspec": {
   "display_name": "Python 3",
   "language": "python",
   "name": "python3"
  },
  "language_info": {
   "codemirror_mode": {
    "name": "ipython",
    "version": 3
   },
   "file_extension": ".py",
   "mimetype": "text/x-python",
   "name": "python",
   "nbconvert_exporter": "python",
   "pygments_lexer": "ipython3",
   "version": "3.8.8"
  }
 },
 "nbformat": 4,
 "nbformat_minor": 5
}
